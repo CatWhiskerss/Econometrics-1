{
 "cells": [
  {
   "cell_type": "markdown",
   "metadata": {},
   "source": [
    "Подключение библиотек"
   ]
  },
  {
   "cell_type": "code",
   "execution_count": 1,
   "metadata": {},
   "outputs": [],
   "source": [
    "import math\n",
    "import numpy as np\n",
    "import pandas as pd\n",
    "import sklearn.linear_model as lm\n",
    "import statsmodels.api as sm\n",
    "import patsy as pt\n",
    "import matplotlib.pyplot as plt\n",
    "import xlwings as xw\n",
    "import seaborn as sns\n",
    "from scipy import stats\n",
    "from math import sqrt\n",
    "from scipy.stats import t, chi2, f\n",
    "from scipy.stats import t, chi2, f, boxcox\n",
    "from scipy.stats.mstats import gmean \n",
    "from statsmodels.regression.linear_model import OLS"
   ]
  },
  {
   "cell_type": "markdown",
   "metadata": {},
   "source": [
    "# 1. Описание проблемы"
   ]
  },
  {
   "cell_type": "markdown",
   "metadata": {},
   "source": [
    "## 1.1 Общая характеристика ситуации"
   ]
  },
  {
   "cell_type": "markdown",
   "metadata": {},
   "source": [
    "Обеспокоенность и повышенное внимание к онкологии – одна из характерных черт здравоохранения всех развитых стран, что обусловлено устойчивой тенденцией роста онкологической заболеваемости.\n",
    "\n",
    "Около 60% впервые в жизни регистрируемых злокачественных новообразований имеют III-IV стадию, что приводит к увеличению смертности и значительной инвалидизации больных. Ежегодно в России более 200 тыс. больных впервые признаются инвалидами вследствие онкологического заболевания (13,5% от общего числа инвалидов). Расходы на выплаты по инвалидности и лечению больных при III-IV стадии заболевания являются одной из наиболее затратных статей бюджета.\n",
    "\n",
    "Для реального улучшения состояния здоровья населения, необходимо повышение эффективности деятельности в этом направлении не только государственных структур и учреждений здравоохранения, но и самих граждан. Так, в странах Евросоюза за 10 лет смертность от рака снизилась на 15% в результате воплощения в жизнь программы «Европа против рака», направленной на первичную профилактику злокачественных новообразований. Основными ее составляющими являются борьба с курением, оптимизация питания за счет увеличения потребления овощей и фруктов и уменьшения потребления продуктов животного происхождения, снижение отрицательного воздействия ультрафиолетовых лучей, выполнение рекомендаций по скринингу и ранней диагностике злокачественных образований."
   ]
  },
  {
   "cell_type": "markdown",
   "metadata": {},
   "source": [
    "## 1.2 Вклад автора работы"
   ]
  },
  {
   "cell_type": "markdown",
   "metadata": {},
   "source": [
    "В своём небольшом исследовании автор работы попытается найти зависимость количества онкологических заболеваний от числа абортов, от количества онкологических заболеваний, от выбросов СО_2 и от показателей алкозависимости в РФ. Данные были взяты из официальных источников, таких как Росстат, European Commission, а также BP Statistical Review of World Energy (данные лежат в файле \"Статистика по онкологии.xls\"). Рассмотрим более подробно взаимосвязи между онкологическими заболеваниями и рядом факторов"
   ]
  },
  {
   "cell_type": "markdown",
   "metadata": {},
   "source": [
    "### 1.2.1 Попарная зависимость "
   ]
  },
  {
   "cell_type": "markdown",
   "metadata": {},
   "source": [
    "#### 1.2.1.1 Взаимосвязь между онкологическими заболеваниями и болезнями нервной системы"
   ]
  },
  {
   "cell_type": "markdown",
   "metadata": {},
   "source": [
    "Ученые Чикагского университета в начале XX века в ходе ряда экспериментов над мышами, обнаружили что нервные потрясения могут повлиять на ход болезни или даже изменить биологию заболевания. \n",
    "\n",
    "Мышь испытывает сильный стресс из-за отлучения от группы. У сидящих вдали от других животных грызунов вырабатывается больше гормонов стресса (кортикостероидов) и нарушается обмен веществ, связанный с переработкой жирных кислот. Эти выводы достаточно важны для врачей-онкологов. Кортикостероиды, как было показано в целом ряде научных исследований, влияют на многие биохимические процессы, переключают активность многих генов (включая те, что связаны с развитием рака)\n",
    "\n",
    "Предлагается рассмотреть, подтверждаются ли подобные результаты в реальности. Для этого проведем анализ взаимосвязи между болезнями нервной системы и онкологическими заболеваниями."
   ]
  },
  {
   "cell_type": "markdown",
   "metadata": {},
   "source": [
    "У нас имеются данные по числу (тыс. человек) зарегистрированных заболеваний у больных с диагнозом, установленным впервые относительно нервных и онкологических заболеваний с 1990 по 2018 год. Для того, что бы исключить ошибку вследствие динамики населения в Российской Федерации, проведем нормировку (делим абсолютный показатель зарегистрированных болезней на население и умножаем на 100 000) и найдем число зарегистрированных заболеваний на\n",
    "100 000 человек."
   ]
  },
  {
   "cell_type": "markdown",
   "metadata": {},
   "source": [
    "Загрузка данных"
   ]
  },
  {
   "cell_type": "code",
   "execution_count": 2,
   "metadata": {
    "scrolled": false
   },
   "outputs": [
    {
     "data": {
      "text/html": [
       "<div>\n",
       "<style scoped>\n",
       "    .dataframe tbody tr th:only-of-type {\n",
       "        vertical-align: middle;\n",
       "    }\n",
       "\n",
       "    .dataframe tbody tr th {\n",
       "        vertical-align: top;\n",
       "    }\n",
       "\n",
       "    .dataframe thead th {\n",
       "        text-align: right;\n",
       "    }\n",
       "</style>\n",
       "<table border=\"1\" class=\"dataframe\">\n",
       "  <thead>\n",
       "    <tr style=\"text-align: right;\">\n",
       "      <th></th>\n",
       "      <th>Психические заболевания, установленные впервые в жизни на 100 000 населения</th>\n",
       "      <th>Онкологические заболевания, установленные впервые в жизни на 100 000 населения</th>\n",
       "    </tr>\n",
       "  </thead>\n",
       "  <tbody>\n",
       "    <tr>\n",
       "      <th>0</th>\n",
       "      <td>93.1</td>\n",
       "      <td>279.1</td>\n",
       "    </tr>\n",
       "    <tr>\n",
       "      <th>1</th>\n",
       "      <td>93.2</td>\n",
       "      <td>288.1</td>\n",
       "    </tr>\n",
       "    <tr>\n",
       "      <th>2</th>\n",
       "      <td>90.5</td>\n",
       "      <td>294.7</td>\n",
       "    </tr>\n",
       "    <tr>\n",
       "      <th>3</th>\n",
       "      <td>89.3</td>\n",
       "      <td>302.4</td>\n",
       "    </tr>\n",
       "    <tr>\n",
       "      <th>4</th>\n",
       "      <td>83.8</td>\n",
       "      <td>304.1</td>\n",
       "    </tr>\n",
       "  </tbody>\n",
       "</table>\n",
       "</div>"
      ],
      "text/plain": [
       "   Психические заболевания, установленные впервые в жизни на 100 000 населения  \\\n",
       "0                                               93.1                             \n",
       "1                                               93.2                             \n",
       "2                                               90.5                             \n",
       "3                                               89.3                             \n",
       "4                                               83.8                             \n",
       "\n",
       "   Онкологические заболевания, установленные впервые в жизни на 100 000 населения  \n",
       "0                                              279.1                               \n",
       "1                                              288.1                               \n",
       "2                                              294.7                               \n",
       "3                                              302.4                               \n",
       "4                                              304.1                               "
      ]
     },
     "execution_count": 2,
     "metadata": {},
     "output_type": "execute_result"
    }
   ],
   "source": [
    "data = pd.read_excel('Статистика.xls', 'Лист2')[['Психические заболевания, установленные впервые в жизни на 100 000 населения', 'Онкологические заболевания, установленные впервые в жизни на 100 000 населения']]\n",
    "# x - психические заболевания\n",
    "x = data.iloc[:,:-1]\n",
    "# y - онкозаболевания\n",
    "y = data.iloc[:,-1]\n",
    "data.head()"
   ]
  },
  {
   "cell_type": "markdown",
   "metadata": {},
   "source": [
    "Построение регрессии"
   ]
  },
  {
   "cell_type": "code",
   "execution_count": 3,
   "metadata": {
    "scrolled": true
   },
   "outputs": [
    {
     "data": {
      "text/plain": [
       "'y = -0.09424904133886539*x + 342.7353950898558'"
      ]
     },
     "execution_count": 3,
     "metadata": {},
     "output_type": "execute_result"
    }
   ],
   "source": [
    "# Создаём пустую форму регрессии\n",
    "skm = lm.LinearRegression()\n",
    "# Вычисляем параметры\n",
    "skm.fit(x, y)\n",
    "# Отображение коэфициентов\n",
    "skm.intercept_, skm.coef_\n",
    "\n",
    "\n",
    "f'y = {skm.coef_[0]}*x + {skm.intercept_}'"
   ]
  },
  {
   "cell_type": "markdown",
   "metadata": {},
   "source": [
    "Построение графика"
   ]
  },
  {
   "cell_type": "code",
   "execution_count": 4,
   "metadata": {
    "scrolled": false
   },
   "outputs": [
    {
     "data": {
      "image/png": "[encoded data removed]",
      "text/plain": [
       "<Figure size 936x720 with 1 Axes>"
      ]
     },
     "metadata": {
      "needs_background": "light"
     },
     "output_type": "display_data"
    }
   ],
   "source": [
    "plt.figure(figsize=(13,10))\n",
    "plt.title(\"Взаимосвязь между онкологическими заболеваниями и болезнями нервной системы\", fontsize=14, fontweight=\"bold\")\n",
    "plt.xlabel(\"Психические заболевания\", fontsize=15)\n",
    "plt.ylabel(\"Онкологические заболевания\", fontsize=15)\n",
    "plt.scatter(data['Психические заболевания, установленные впервые в жизни на 100 000 населения'], data['Онкологические заболевания, установленные впервые в жизни на 100 000 населения'])\n",
    "x3_data = [skm.coef_[0] * x + skm.intercept_ for x in range(40, 500)]\n",
    "plt.plot([*range(40,500)], x3_data )\n",
    "plt.show()"
   ]
  },
  {
   "cell_type": "markdown",
   "metadata": {},
   "source": [
    "Есть выбросы в 2005 и 2006 годах. После изучения темы была выявлена ошибка в подсчетах Росстата. Убедиться в этом можно прочитав файл по ссылке:\n",
    "\n",
    "http://mednet.ru/images/stories/files/statistika/Zabolevaemost_psihicheskimi_rasstroistvami_v_subektah_RF.pdf\n",
    "\n",
    "Тогда с учетом поправок получим"
   ]
  },
  {
   "cell_type": "markdown",
   "metadata": {},
   "source": [
    "Загрузка данных"
   ]
  },
  {
   "cell_type": "code",
   "execution_count": 5,
   "metadata": {
    "scrolled": false
   },
   "outputs": [
    {
     "data": {
      "text/html": [
       "<div>\n",
       "<style scoped>\n",
       "    .dataframe tbody tr th:only-of-type {\n",
       "        vertical-align: middle;\n",
       "    }\n",
       "\n",
       "    .dataframe tbody tr th {\n",
       "        vertical-align: top;\n",
       "    }\n",
       "\n",
       "    .dataframe thead th {\n",
       "        text-align: right;\n",
       "    }\n",
       "</style>\n",
       "<table border=\"1\" class=\"dataframe\">\n",
       "  <thead>\n",
       "    <tr style=\"text-align: right;\">\n",
       "      <th></th>\n",
       "      <th>Психические заболевания (корректированные), установленные впервые в жизни на 100 000 населения</th>\n",
       "      <th>Онкологические заболевания, установленные впервые в жизни на 100 000 населения</th>\n",
       "    </tr>\n",
       "  </thead>\n",
       "  <tbody>\n",
       "    <tr>\n",
       "      <th>0</th>\n",
       "      <td>93.1</td>\n",
       "      <td>279.1</td>\n",
       "    </tr>\n",
       "    <tr>\n",
       "      <th>1</th>\n",
       "      <td>93.2</td>\n",
       "      <td>288.1</td>\n",
       "    </tr>\n",
       "    <tr>\n",
       "      <th>2</th>\n",
       "      <td>90.5</td>\n",
       "      <td>294.7</td>\n",
       "    </tr>\n",
       "    <tr>\n",
       "      <th>3</th>\n",
       "      <td>89.3</td>\n",
       "      <td>302.4</td>\n",
       "    </tr>\n",
       "    <tr>\n",
       "      <th>4</th>\n",
       "      <td>83.8</td>\n",
       "      <td>304.1</td>\n",
       "    </tr>\n",
       "  </tbody>\n",
       "</table>\n",
       "</div>"
      ],
      "text/plain": [
       "   Психические заболевания (корректированные), установленные впервые в жизни на 100 000 населения  \\\n",
       "0                                               93.1                                                \n",
       "1                                               93.2                                                \n",
       "2                                               90.5                                                \n",
       "3                                               89.3                                                \n",
       "4                                               83.8                                                \n",
       "\n",
       "   Онкологические заболевания, установленные впервые в жизни на 100 000 населения  \n",
       "0                                              279.1                               \n",
       "1                                              288.1                               \n",
       "2                                              294.7                               \n",
       "3                                              302.4                               \n",
       "4                                              304.1                               "
      ]
     },
     "execution_count": 5,
     "metadata": {},
     "output_type": "execute_result"
    }
   ],
   "source": [
    "data = pd.read_excel('Статистика.xls', 'Лист2')[['Психические заболевания (корректированные), установленные впервые в жизни на 100 000 населения', 'Онкологические заболевания, установленные впервые в жизни на 100 000 населения']]\n",
    "# x - психические заболевания\n",
    "x = data.iloc[:,:-1]\n",
    "# y - онкозаболевания\n",
    "y = data.iloc[:,-1]\n",
    "data.head()"
   ]
  },
  {
   "cell_type": "markdown",
   "metadata": {},
   "source": [
    "Построение регрессии"
   ]
  },
  {
   "cell_type": "code",
   "execution_count": 6,
   "metadata": {
    "scrolled": true
   },
   "outputs": [
    {
     "data": {
      "text/plain": [
       "'y = -1.9392677385267771*x + 465.720717279891'"
      ]
     },
     "execution_count": 6,
     "metadata": {},
     "output_type": "execute_result"
    }
   ],
   "source": [
    "# Создаём пустую форму регрессии\n",
    "skm = lm.LinearRegression()\n",
    "# Вычисляем параметры\n",
    "skm.fit(x, y)\n",
    "# Отображение коэфициентов\n",
    "skm.intercept_, skm.coef_\n",
    "\n",
    "f'y = {skm.coef_[0]}*x + {skm.intercept_}'"
   ]
  },
  {
   "cell_type": "markdown",
   "metadata": {},
   "source": [
    "Построение графика"
   ]
  },
  {
   "cell_type": "code",
   "execution_count": 7,
   "metadata": {
    "scrolled": false
   },
   "outputs": [
    {
     "data": {
      "image/png": "[encoded data removed]",
      "text/plain": [
       "<Figure size 936x720 with 1 Axes>"
      ]
     },
     "metadata": {
      "needs_background": "light"
     },
     "output_type": "display_data"
    }
   ],
   "source": [
    "plt.figure(figsize=(13,10))\n",
    "plt.title(\"Взаимосвязь между онкологическими заболеваниями и болезнями нервной системы\", fontsize=14, fontweight=\"bold\")\n",
    "plt.xlabel(\"Психические заболевания\", fontsize=15)\n",
    "plt.ylabel(\"Онкологические заболевания\", fontsize=15)\n",
    "plt.scatter(data['Психические заболевания (корректированные), установленные впервые в жизни на 100 000 населения'], data['Онкологические заболевания, установленные впервые в жизни на 100 000 населения'])\n",
    "x3_data = [skm.coef_[0] * x + skm.intercept_ for x in range(40, 100)]\n",
    "plt.plot([*range(40,100)], x3_data )\n",
    "plt.show()"
   ]
  },
  {
   "cell_type": "markdown",
   "metadata": {},
   "source": [
    "#### 1.2.1.2 Взаимосвязь алкоголезависимости и онкологических заболеваний"
   ]
  },
  {
   "cell_type": "markdown",
   "metadata": {},
   "source": [
    "Врачи утверждают, что между новообразованиями и такой социальной болезнью как алкоголизм есть прямая зависимость. Согласно научным исследованиям, это одна из трех основных причин возникновения раковых опухолей.\n",
    "\n",
    "В человеческом организме есть ген, отвечающий за возникновение раковых опухолей – ген p53. О существовании этого гена ученые знают уже около 30 лет - установлено, что он может отдавать поврежденным клеткам \"приказ\" о самоуничтожении, либо останавливать их деление в момент, когда происходит восстановление организма. Также было доказано, что вещества содержащиеся в алкоголе и табачном дыме уничтожают или повреждают этот ген в человеке.\n",
    "\n",
    "Делаем нормировку на 100 000 человек, аналогичную прошлому случаю"
   ]
  },
  {
   "cell_type": "markdown",
   "metadata": {},
   "source": [
    "Загрузка данных"
   ]
  },
  {
   "cell_type": "code",
   "execution_count": 8,
   "metadata": {
    "scrolled": false
   },
   "outputs": [
    {
     "data": {
      "text/html": [
       "<div>\n",
       "<style scoped>\n",
       "    .dataframe tbody tr th:only-of-type {\n",
       "        vertical-align: middle;\n",
       "    }\n",
       "\n",
       "    .dataframe tbody tr th {\n",
       "        vertical-align: top;\n",
       "    }\n",
       "\n",
       "    .dataframe thead th {\n",
       "        text-align: right;\n",
       "    }\n",
       "</style>\n",
       "<table border=\"1\" class=\"dataframe\">\n",
       "  <thead>\n",
       "    <tr style=\"text-align: right;\">\n",
       "      <th></th>\n",
       "      <th>Распространенность алкоголизма на 100 000 населения</th>\n",
       "      <th>Онкологические заболевания, установленные впервые в жизни на 100 000 населения</th>\n",
       "    </tr>\n",
       "  </thead>\n",
       "  <tbody>\n",
       "    <tr>\n",
       "      <th>0</th>\n",
       "      <td>61</td>\n",
       "      <td>279.1</td>\n",
       "    </tr>\n",
       "    <tr>\n",
       "      <th>1</th>\n",
       "      <td>67</td>\n",
       "      <td>288.1</td>\n",
       "    </tr>\n",
       "    <tr>\n",
       "      <th>2</th>\n",
       "      <td>72</td>\n",
       "      <td>294.7</td>\n",
       "    </tr>\n",
       "    <tr>\n",
       "      <th>3</th>\n",
       "      <td>70</td>\n",
       "      <td>302.4</td>\n",
       "    </tr>\n",
       "    <tr>\n",
       "      <th>4</th>\n",
       "      <td>71</td>\n",
       "      <td>304.1</td>\n",
       "    </tr>\n",
       "  </tbody>\n",
       "</table>\n",
       "</div>"
      ],
      "text/plain": [
       "   Распространенность алкоголизма на 100 000 населения  \\\n",
       "0                                                 61     \n",
       "1                                                 67     \n",
       "2                                                 72     \n",
       "3                                                 70     \n",
       "4                                                 71     \n",
       "\n",
       "   Онкологические заболевания, установленные впервые в жизни на 100 000 населения  \n",
       "0                                              279.1                               \n",
       "1                                              288.1                               \n",
       "2                                              294.7                               \n",
       "3                                              302.4                               \n",
       "4                                              304.1                               "
      ]
     },
     "execution_count": 8,
     "metadata": {},
     "output_type": "execute_result"
    }
   ],
   "source": [
    "data = pd.read_excel('Статистика.xls', 'Лист2')[['Распространенность алкоголизма на 100 000 населения', 'Онкологические заболевания, установленные впервые в жизни на 100 000 населения']]\n",
    "# x - употребление алкоголя\n",
    "x = data.iloc[:,:-1]\n",
    "# y - онкозаболевания\n",
    "y = data.iloc[:,-1]\n",
    "data.head()"
   ]
  },
  {
   "cell_type": "markdown",
   "metadata": {},
   "source": [
    "Построение регрессии"
   ]
  },
  {
   "cell_type": "code",
   "execution_count": 9,
   "metadata": {
    "scrolled": true
   },
   "outputs": [
    {
     "data": {
      "text/plain": [
       "'y = 2.6135357987215775*x + 111.9167683371765'"
      ]
     },
     "execution_count": 9,
     "metadata": {},
     "output_type": "execute_result"
    }
   ],
   "source": [
    "# Создаём пустую форму регрессии\n",
    "skm = lm.LinearRegression()\n",
    "# Вычисляем параметры\n",
    "skm.fit(x, y)\n",
    "# Отображение коэфициентов\n",
    "skm.intercept_, skm.coef_\n",
    "\n",
    "f'y = {skm.coef_[0]}*x + {skm.intercept_}'"
   ]
  },
  {
   "cell_type": "markdown",
   "metadata": {},
   "source": [
    "Построение графика"
   ]
  },
  {
   "cell_type": "code",
   "execution_count": 10,
   "metadata": {},
   "outputs": [
    {
     "data": {
      "image/png": "[encoded data removed]",
      "text/plain": [
       "<Figure size 936x720 with 1 Axes>"
      ]
     },
     "metadata": {
      "needs_background": "light"
     },
     "output_type": "display_data"
    }
   ],
   "source": [
    "plt.figure(figsize=(13,10))\n",
    "plt.title(\"Взаимосвязь алкоголезависимости и онкологических заболеваний\", fontsize=14, fontweight=\"bold\")\n",
    "plt.xlabel(\"Распространенность алкоголизма\", fontsize=15)\n",
    "plt.ylabel(\"Онкологические заболевания\", fontsize=15)\n",
    "plt.scatter(data['Распространенность алкоголизма на 100 000 населения'], data['Онкологические заболевания, установленные впервые в жизни на 100 000 населения'])\n",
    "x5_data = [skm.coef_[0] * x + skm.intercept_ for x in range(60, 110)]\n",
    "plt.plot([*range(60, 110)], x5_data )\n",
    "plt.show()\n"
   ]
  },
  {
   "cell_type": "markdown",
   "metadata": {},
   "source": [
    "#### 1.2.1.3 Взаимосвязь абортов и злокачественных опухолей"
   ]
  },
  {
   "cell_type": "markdown",
   "metadata": {},
   "source": [
    "Неоднократно врачи устанавливали взаимосвязь выкидышей и абортов со значительным увеличением риска рака и рака груди в частности груди. Проводимые медицинские исследования показывают, что этой причиной заболевания раком может быть аборт. \n",
    "\n",
    "Аборт первой беременности прерывает рост и изменение, которые готовят грудь к производству молока, оставляя ее при усиленном риске рака.\n",
    "\n",
    "Врач \"создатель\" аборта, Малькольм Пайк явно идентифицировал аборт как фактор риска заболевания раком груди в 1981 году. \n",
    "\n",
    "Делаем нормировку на 100 000 человек, аналогичную прошлому случаю"
   ]
  },
  {
   "cell_type": "markdown",
   "metadata": {},
   "source": [
    "Загрузка данных"
   ]
  },
  {
   "cell_type": "code",
   "execution_count": 11,
   "metadata": {
    "scrolled": false
   },
   "outputs": [
    {
     "data": {
      "text/html": [
       "<div>\n",
       "<style scoped>\n",
       "    .dataframe tbody tr th:only-of-type {\n",
       "        vertical-align: middle;\n",
       "    }\n",
       "\n",
       "    .dataframe tbody tr th {\n",
       "        vertical-align: top;\n",
       "    }\n",
       "\n",
       "    .dataframe thead th {\n",
       "        text-align: right;\n",
       "    }\n",
       "</style>\n",
       "<table border=\"1\" class=\"dataframe\">\n",
       "  <thead>\n",
       "    <tr style=\"text-align: right;\">\n",
       "      <th></th>\n",
       "      <th>Число абортов на 100 000 населения</th>\n",
       "      <th>Онкологические заболевания, установленные впервые в жизни на 100 000 населения</th>\n",
       "    </tr>\n",
       "  </thead>\n",
       "  <tbody>\n",
       "    <tr>\n",
       "      <th>0</th>\n",
       "      <td>1.871763</td>\n",
       "      <td>279.1</td>\n",
       "    </tr>\n",
       "    <tr>\n",
       "      <th>1</th>\n",
       "      <td>1.810095</td>\n",
       "      <td>288.1</td>\n",
       "    </tr>\n",
       "    <tr>\n",
       "      <th>2</th>\n",
       "      <td>1.710095</td>\n",
       "      <td>294.7</td>\n",
       "    </tr>\n",
       "    <tr>\n",
       "      <th>3</th>\n",
       "      <td>1.609849</td>\n",
       "      <td>302.4</td>\n",
       "    </tr>\n",
       "    <tr>\n",
       "      <th>4</th>\n",
       "      <td>1.502725</td>\n",
       "      <td>304.1</td>\n",
       "    </tr>\n",
       "  </tbody>\n",
       "</table>\n",
       "</div>"
      ],
      "text/plain": [
       "   Число абортов на 100 000 населения  \\\n",
       "0                            1.871763   \n",
       "1                            1.810095   \n",
       "2                            1.710095   \n",
       "3                            1.609849   \n",
       "4                            1.502725   \n",
       "\n",
       "   Онкологические заболевания, установленные впервые в жизни на 100 000 населения  \n",
       "0                                              279.1                               \n",
       "1                                              288.1                               \n",
       "2                                              294.7                               \n",
       "3                                              302.4                               \n",
       "4                                              304.1                               "
      ]
     },
     "execution_count": 11,
     "metadata": {},
     "output_type": "execute_result"
    }
   ],
   "source": [
    "data = pd.read_excel('Статистика.xls', 'Лист2')[['Число абортов на 100 000 населения', 'Онкологические заболевания, установленные впервые в жизни на 100 000 населения']]\n",
    "# x - количество абортов\n",
    "x = data.iloc[:,:-1]\n",
    "# y - онкозаболевания\n",
    "y = data.iloc[:,-1]\n",
    "data.head()"
   ]
  },
  {
   "cell_type": "markdown",
   "metadata": {},
   "source": [
    "Построение регрессии"
   ]
  },
  {
   "cell_type": "code",
   "execution_count": 12,
   "metadata": {
    "scrolled": true
   },
   "outputs": [
    {
     "data": {
      "text/plain": [
       "'y = -76.71550408487062*x + 420.6135119779635'"
      ]
     },
     "execution_count": 12,
     "metadata": {},
     "output_type": "execute_result"
    }
   ],
   "source": [
    "# Создаём пустую форму регрессии\n",
    "skm = lm.LinearRegression()\n",
    "# Вычисляем параметры\n",
    "skm.fit(x, y)\n",
    "# Отображение коэфициентов\n",
    "skm.intercept_, skm.coef_\n",
    "\n",
    "f'y = {skm.coef_[0]}*x + {skm.intercept_}'"
   ]
  },
  {
   "cell_type": "markdown",
   "metadata": {},
   "source": [
    "Построение графика"
   ]
  },
  {
   "cell_type": "code",
   "execution_count": 13,
   "metadata": {
    "scrolled": false
   },
   "outputs": [
    {
     "data": {
      "image/png": "[encoded data removed]",
      "text/plain": [
       "<Figure size 936x720 with 1 Axes>"
      ]
     },
     "metadata": {
      "needs_background": "light"
     },
     "output_type": "display_data"
    }
   ],
   "source": [
    "plt.figure(figsize=(13,10))\n",
    "plt.title(\"Взаимосвязь абортов и злокачественных опухолей\", fontsize=14, fontweight=\"bold\")\n",
    "plt.xlabel(\"Число абортов\", fontsize=15)\n",
    "plt.ylabel(\"Онкологические заболевания\", fontsize=15)\n",
    "plt.scatter(data['Число абортов на 100 000 населения'], data['Онкологические заболевания, установленные впервые в жизни на 100 000 населения'])\n",
    "x2_data = [skm.coef_[0] * x + skm.intercept_ for x in range(0, 3)]\n",
    "plt.plot([*range(0,3)], x2_data )\n",
    "plt.show()"
   ]
  },
  {
   "cell_type": "markdown",
   "metadata": {},
   "source": [
    "В данном случае можно считать выбросом первую точку. Характер изменений в 2014-2015 годы объясняется замещением аборта планированием семьи (агитационная политика, усиленные меры государственной поддержки)\n",
    "\n",
    "Тогда предлагается выкинуть две точки при построении регрессии (на графике они останутся). Как будет заметно из графика ниже, это предложение имеет место быть"
   ]
  },
  {
   "cell_type": "code",
   "execution_count": 14,
   "metadata": {
    "scrolled": true
   },
   "outputs": [
    {
     "data": {
      "text/html": [
       "<div>\n",
       "<style scoped>\n",
       "    .dataframe tbody tr th:only-of-type {\n",
       "        vertical-align: middle;\n",
       "    }\n",
       "\n",
       "    .dataframe tbody tr th {\n",
       "        vertical-align: top;\n",
       "    }\n",
       "\n",
       "    .dataframe thead th {\n",
       "        text-align: right;\n",
       "    }\n",
       "</style>\n",
       "<table border=\"1\" class=\"dataframe\">\n",
       "  <thead>\n",
       "    <tr style=\"text-align: right;\">\n",
       "      <th></th>\n",
       "      <th>Число абортов (корректированные) на 100 000 населения</th>\n",
       "      <th>Онкологические заболевания (корректированные), установленные впервые в жизни на 100 000 населения</th>\n",
       "    </tr>\n",
       "  </thead>\n",
       "  <tbody>\n",
       "    <tr>\n",
       "      <th>0</th>\n",
       "      <td>1.871763</td>\n",
       "      <td>279.1</td>\n",
       "    </tr>\n",
       "    <tr>\n",
       "      <th>1</th>\n",
       "      <td>1.810095</td>\n",
       "      <td>288.1</td>\n",
       "    </tr>\n",
       "    <tr>\n",
       "      <th>2</th>\n",
       "      <td>1.710095</td>\n",
       "      <td>294.7</td>\n",
       "    </tr>\n",
       "    <tr>\n",
       "      <th>3</th>\n",
       "      <td>1.609849</td>\n",
       "      <td>302.4</td>\n",
       "    </tr>\n",
       "    <tr>\n",
       "      <th>4</th>\n",
       "      <td>1.502725</td>\n",
       "      <td>304.1</td>\n",
       "    </tr>\n",
       "  </tbody>\n",
       "</table>\n",
       "</div>"
      ],
      "text/plain": [
       "   Число абортов (корректированные) на 100 000 населения  \\\n",
       "0                                           1.871763       \n",
       "1                                           1.810095       \n",
       "2                                           1.710095       \n",
       "3                                           1.609849       \n",
       "4                                           1.502725       \n",
       "\n",
       "   Онкологические заболевания (корректированные), установленные впервые в жизни на 100 000 населения  \n",
       "0                                              279.1                                                  \n",
       "1                                              288.1                                                  \n",
       "2                                              294.7                                                  \n",
       "3                                              302.4                                                  \n",
       "4                                              304.1                                                  "
      ]
     },
     "execution_count": 14,
     "metadata": {},
     "output_type": "execute_result"
    }
   ],
   "source": [
    "data = pd.read_excel('Статистика.xls', 'Лист2')[['Число абортов (корректированные) на 100 000 населения', 'Онкологические заболевания (корректированные), установленные впервые в жизни на 100 000 населения']]\n",
    "# x - количество абортов\n",
    "x = data.iloc[:19,:-1]\n",
    "# y - онкозаболевания\n",
    "y = data.iloc[:19,-1]\n",
    "data.head()"
   ]
  },
  {
   "cell_type": "markdown",
   "metadata": {},
   "source": [
    "Построение регрессии"
   ]
  },
  {
   "cell_type": "code",
   "execution_count": 15,
   "metadata": {
    "scrolled": true
   },
   "outputs": [
    {
     "data": {
      "text/plain": [
       "'y = -69.69557490557972*x + 410.5921245573374'"
      ]
     },
     "execution_count": 15,
     "metadata": {},
     "output_type": "execute_result"
    }
   ],
   "source": [
    "# Создаём пустую форму регрессии\n",
    "skm = lm.LinearRegression()\n",
    "# Вычисляем параметры\n",
    "skm.fit(x, y)\n",
    "# Отображение коэфициентов\n",
    "skm.intercept_, skm.coef_\n",
    "\n",
    "f'y = {skm.coef_[0]}*x + {skm.intercept_}'"
   ]
  },
  {
   "cell_type": "markdown",
   "metadata": {},
   "source": [
    "Построение графика"
   ]
  },
  {
   "cell_type": "code",
   "execution_count": 16,
   "metadata": {
    "scrolled": false
   },
   "outputs": [
    {
     "data": {
      "image/png": "[encoded data removed]",
      "text/plain": [
       "<Figure size 936x720 with 1 Axes>"
      ]
     },
     "metadata": {
      "needs_background": "light"
     },
     "output_type": "display_data"
    }
   ],
   "source": [
    "plt.figure(figsize=(13,10))\n",
    "plt.title(\"Взаимосвязь абортов и злокачественных опухолей\", fontsize=14, fontweight=\"bold\")\n",
    "plt.xlabel(\"Число абортов\", fontsize=15)\n",
    "plt.ylabel(\"Онкологические заболевания\", fontsize=15)\n",
    "plt.scatter(data['Число абортов (корректированные) на 100 000 населения'], data['Онкологические заболевания (корректированные), установленные впервые в жизни на 100 000 населения'])\n",
    "x2_data = [skm.coef_[0] * x + skm.intercept_ for x in range(0, 3)]\n",
    "plt.plot([*range(0,3)], x2_data )\n",
    "plt.show()"
   ]
  },
  {
   "cell_type": "markdown",
   "metadata": {},
   "source": [
    "#### 1.2.1.4 Взаимосвязь выбросов СО_2 и злокачественных опухолей"
   ]
  },
  {
   "cell_type": "markdown",
   "metadata": {},
   "source": [
    "По данным Всемирной организации здравоохранения, здоровье на 50% зависит от образа жизни и на 25% – от состояния окружающей среды, но при рассмотрении онкологических заболеваний, фактор состояния окружающей среды увеличивается до 60-80%.\n",
    "\n",
    "В атмосферном воздухе современных городов присутствуют сотни веществ различных химических классов органической и неорганической природы, поступающих из многочисленных источников, как правило, антропогенного происхождения. Около 30% всех онкологических заболеваний жителей промышленных районов обусловливает загрязнение атмосферы\n",
    "\n",
    "В качестве простого примера, в исследовании предлагается рассмотреть выбросы СО_2 \n",
    "\n",
    "Делаем нормировку на 100 000 человек, аналогичную прошлому случаю"
   ]
  },
  {
   "cell_type": "markdown",
   "metadata": {},
   "source": [
    "Загрузка данных"
   ]
  },
  {
   "cell_type": "code",
   "execution_count": 17,
   "metadata": {
    "scrolled": false
   },
   "outputs": [
    {
     "data": {
      "text/html": [
       "<div>\n",
       "<style scoped>\n",
       "    .dataframe tbody tr th:only-of-type {\n",
       "        vertical-align: middle;\n",
       "    }\n",
       "\n",
       "    .dataframe tbody tr th {\n",
       "        vertical-align: top;\n",
       "    }\n",
       "\n",
       "    .dataframe thead th {\n",
       "        text-align: right;\n",
       "    }\n",
       "</style>\n",
       "<table border=\"1\" class=\"dataframe\">\n",
       "  <thead>\n",
       "    <tr style=\"text-align: right;\">\n",
       "      <th></th>\n",
       "      <th>Выбросы СО2, Ктонн на 100 000 населения</th>\n",
       "      <th>Онкологические заболевания, установленные впервые в жизни на 100 000 населения</th>\n",
       "    </tr>\n",
       "  </thead>\n",
       "  <tbody>\n",
       "    <tr>\n",
       "      <th>0</th>\n",
       "      <td>1185.131884</td>\n",
       "      <td>279.1</td>\n",
       "    </tr>\n",
       "    <tr>\n",
       "      <th>1</th>\n",
       "      <td>1163.722596</td>\n",
       "      <td>288.1</td>\n",
       "    </tr>\n",
       "    <tr>\n",
       "      <th>2</th>\n",
       "      <td>1093.726595</td>\n",
       "      <td>294.7</td>\n",
       "    </tr>\n",
       "    <tr>\n",
       "      <th>3</th>\n",
       "      <td>1099.322713</td>\n",
       "      <td>302.4</td>\n",
       "    </tr>\n",
       "    <tr>\n",
       "      <th>4</th>\n",
       "      <td>1136.951959</td>\n",
       "      <td>304.1</td>\n",
       "    </tr>\n",
       "  </tbody>\n",
       "</table>\n",
       "</div>"
      ],
      "text/plain": [
       "   Выбросы СО2, Ктонн на 100 000 населения  \\\n",
       "0                              1185.131884   \n",
       "1                              1163.722596   \n",
       "2                              1093.726595   \n",
       "3                              1099.322713   \n",
       "4                              1136.951959   \n",
       "\n",
       "   Онкологические заболевания, установленные впервые в жизни на 100 000 населения  \n",
       "0                                              279.1                               \n",
       "1                                              288.1                               \n",
       "2                                              294.7                               \n",
       "3                                              302.4                               \n",
       "4                                              304.1                               "
      ]
     },
     "execution_count": 17,
     "metadata": {},
     "output_type": "execute_result"
    }
   ],
   "source": [
    "data = pd.read_excel('Статистика.xls', 'Лист2')[['Выбросы СО2, Ктонн на 100 000 населения', 'Онкологические заболевания, установленные впервые в жизни на 100 000 населения']]\n",
    "# x - выбросы СО_2\n",
    "x = data.iloc[:,:-1]\n",
    "# y - онкозаболевания\n",
    "y = data.iloc[:,-1]\n",
    "data.head()"
   ]
  },
  {
   "cell_type": "markdown",
   "metadata": {},
   "source": [
    "Построение регрессии"
   ]
  },
  {
   "cell_type": "code",
   "execution_count": 18,
   "metadata": {
    "scrolled": true
   },
   "outputs": [
    {
     "data": {
      "text/plain": [
       "'y = 0.4301835660165489*x + -181.758984503531'"
      ]
     },
     "execution_count": 18,
     "metadata": {},
     "output_type": "execute_result"
    }
   ],
   "source": [
    "# Создаём пустую форму регрессии\n",
    "skm = lm.LinearRegression()\n",
    "# Вычисляем параметры\n",
    "skm.fit(x, y)\n",
    "# Отображение коэфициентов\n",
    "skm.intercept_, skm.coef_\n",
    "\n",
    "f'y = {skm.coef_[0]}*x + {skm.intercept_}'"
   ]
  },
  {
   "cell_type": "markdown",
   "metadata": {},
   "source": [
    "Построение графика"
   ]
  },
  {
   "cell_type": "code",
   "execution_count": 19,
   "metadata": {
    "scrolled": false
   },
   "outputs": [
    {
     "data": {
      "image/png": "[encoded data removed]",
      "text/plain": [
       "<Figure size 936x720 with 1 Axes>"
      ]
     },
     "metadata": {
      "needs_background": "light"
     },
     "output_type": "display_data"
    }
   ],
   "source": [
    "plt.figure(figsize=(13,10))\n",
    "plt.title(\" выбросов СО_2 и злокачественных опухолей\", fontsize=14, fontweight=\"bold\")\n",
    "plt.xlabel(\"Выбросы СО2\", fontsize=15)\n",
    "plt.ylabel(\"Онкологические заболевания\", fontsize=15)\n",
    "plt.scatter(data['Выбросы СО2, Ктонн на 100 000 населения'], data['Онкологические заболевания, установленные впервые в жизни на 100 000 населения'])\n",
    "x4_data = [skm.coef_[0] * x + skm.intercept_ for x in range(1000, 1400)]\n",
    "plt.plot([*range(1000, 1400)], x4_data )\n",
    "plt.show()"
   ]
  },
  {
   "cell_type": "markdown",
   "metadata": {},
   "source": [
    "Такой разброс данных обуславливается разного рода соглашениями об экологии, а также методами подсчёта выбросов. \n",
    "\n",
    "В качестве примера можно рассмотреть 2011-2013 года. В это время заканчивался первый период действия Киотского Протокола.\n",
    "Киотский протокол — международное соглашение, заключённое с целью сокращения выбросов парниковых газов в атмосферу Земли для противодействия глобальному потеплению.\n",
    "\n",
    "Или, например, в 1996-1998 годах тестировалась новая методика выбросов СО_2 в атмосферу, которая подсчитывала коэффициент окисления углерода иначе.\n",
    "\n",
    "Также стоит учесть, что эта характеристика может быть искусственно изменена в результате политического вмешательства.\n",
    "\n",
    "Поэтому автор работы считает, что в таком виде искать взаимосвязь загрязнение атмосферы и онкологических заболеваний нецелесообразно"
   ]
  },
  {
   "cell_type": "markdown",
   "metadata": {},
   "source": [
    "### 1.2.2 Зависимость по тройкам"
   ]
  },
  {
   "cell_type": "markdown",
   "metadata": {},
   "source": [
    "В разделе 1.2.1 были рассмотрены различные зависимости и объяснены использования данных. Теперь предлагается посмотреть на зависимость онкологических заболеваний от двух параметров. В данном случае не будет строиться график, однако будут указаны уравнения.\n",
    "\n",
    "Также не стоит забывать, что был отброшен фактор выбросов СО_2. Его в рассмотрение не берем"
   ]
  },
  {
   "cell_type": "markdown",
   "metadata": {},
   "source": [
    "#### 1.2.2.1. Зависимость онкозаболеваний в зависимости от числа абортов и психических заболеваний"
   ]
  },
  {
   "cell_type": "markdown",
   "metadata": {},
   "source": [
    "Загрузка данных"
   ]
  },
  {
   "cell_type": "code",
   "execution_count": 20,
   "metadata": {},
   "outputs": [
    {
     "data": {
      "text/html": [
       "<div>\n",
       "<style scoped>\n",
       "    .dataframe tbody tr th:only-of-type {\n",
       "        vertical-align: middle;\n",
       "    }\n",
       "\n",
       "    .dataframe tbody tr th {\n",
       "        vertical-align: top;\n",
       "    }\n",
       "\n",
       "    .dataframe thead th {\n",
       "        text-align: right;\n",
       "    }\n",
       "</style>\n",
       "<table border=\"1\" class=\"dataframe\">\n",
       "  <thead>\n",
       "    <tr style=\"text-align: right;\">\n",
       "      <th></th>\n",
       "      <th>Число абортов на 100 000 населения</th>\n",
       "      <th>Психические заболевания (корректированные), установленные впервые в жизни на 100 000 населения</th>\n",
       "      <th>Онкологические заболевания, установленные впервые в жизни на 100 000 населения</th>\n",
       "    </tr>\n",
       "  </thead>\n",
       "  <tbody>\n",
       "    <tr>\n",
       "      <th>0</th>\n",
       "      <td>1.871763</td>\n",
       "      <td>93.1</td>\n",
       "      <td>279.1</td>\n",
       "    </tr>\n",
       "    <tr>\n",
       "      <th>1</th>\n",
       "      <td>1.810095</td>\n",
       "      <td>93.2</td>\n",
       "      <td>288.1</td>\n",
       "    </tr>\n",
       "    <tr>\n",
       "      <th>2</th>\n",
       "      <td>1.710095</td>\n",
       "      <td>90.5</td>\n",
       "      <td>294.7</td>\n",
       "    </tr>\n",
       "    <tr>\n",
       "      <th>3</th>\n",
       "      <td>1.609849</td>\n",
       "      <td>89.3</td>\n",
       "      <td>302.4</td>\n",
       "    </tr>\n",
       "    <tr>\n",
       "      <th>4</th>\n",
       "      <td>1.502725</td>\n",
       "      <td>83.8</td>\n",
       "      <td>304.1</td>\n",
       "    </tr>\n",
       "  </tbody>\n",
       "</table>\n",
       "</div>"
      ],
      "text/plain": [
       "   Число абортов на 100 000 населения  \\\n",
       "0                            1.871763   \n",
       "1                            1.810095   \n",
       "2                            1.710095   \n",
       "3                            1.609849   \n",
       "4                            1.502725   \n",
       "\n",
       "   Психические заболевания (корректированные), установленные впервые в жизни на 100 000 населения  \\\n",
       "0                                               93.1                                                \n",
       "1                                               93.2                                                \n",
       "2                                               90.5                                                \n",
       "3                                               89.3                                                \n",
       "4                                               83.8                                                \n",
       "\n",
       "   Онкологические заболевания, установленные впервые в жизни на 100 000 населения  \n",
       "0                                              279.1                               \n",
       "1                                              288.1                               \n",
       "2                                              294.7                               \n",
       "3                                              302.4                               \n",
       "4                                              304.1                               "
      ]
     },
     "execution_count": 20,
     "metadata": {},
     "output_type": "execute_result"
    }
   ],
   "source": [
    "data = pd.read_excel('Статистика.xls', 'Лист2')[['Число абортов на 100 000 населения','Психические заболевания (корректированные), установленные впервые в жизни на 100 000 населения', 'Онкологические заболевания, установленные впервые в жизни на 100 000 населения']]\n",
    "# x - год\n",
    "x = data.iloc[:,:-1]\n",
    "y = data.iloc[:,-1]\n",
    "data.head()"
   ]
  },
  {
   "cell_type": "markdown",
   "metadata": {},
   "source": [
    "Построение регрессии"
   ]
  },
  {
   "cell_type": "code",
   "execution_count": 21,
   "metadata": {
    "scrolled": true
   },
   "outputs": [
    {
     "data": {
      "text/plain": [
       "(447.1459299159433, array([-32.85623317,  -1.11965437]))"
      ]
     },
     "execution_count": 21,
     "metadata": {},
     "output_type": "execute_result"
    }
   ],
   "source": [
    "# Создаём пустую форму регрессии\n",
    "skm = lm.LinearRegression()\n",
    "# Вычисляем параметры\n",
    "skm.fit(x, y)\n",
    "# Отображение коэфициентов\n",
    "skm.intercept_, skm.coef_"
   ]
  },
  {
   "cell_type": "markdown",
   "metadata": {},
   "source": [
    "Получаем уравнение"
   ]
  },
  {
   "cell_type": "code",
   "execution_count": 22,
   "metadata": {},
   "outputs": [
    {
     "data": {
      "text/plain": [
       "'y = -32.85623316568422*x1 + -1.119654373816741*x2 + 447.1459299159433'"
      ]
     },
     "execution_count": 22,
     "metadata": {},
     "output_type": "execute_result"
    }
   ],
   "source": [
    "f'y = {skm.coef_[0]}*x1 + {skm.coef_[1]}*x2 + {skm.intercept_}'"
   ]
  },
  {
   "cell_type": "markdown",
   "metadata": {},
   "source": [
    "#### 1.2.2.2. Зависимость онкозаболеваний от числа абортов и показателя употребления алкоголя"
   ]
  },
  {
   "cell_type": "markdown",
   "metadata": {},
   "source": [
    "Загрузка данных"
   ]
  },
  {
   "cell_type": "code",
   "execution_count": 23,
   "metadata": {
    "scrolled": false
   },
   "outputs": [
    {
     "data": {
      "text/html": [
       "<div>\n",
       "<style scoped>\n",
       "    .dataframe tbody tr th:only-of-type {\n",
       "        vertical-align: middle;\n",
       "    }\n",
       "\n",
       "    .dataframe tbody tr th {\n",
       "        vertical-align: top;\n",
       "    }\n",
       "\n",
       "    .dataframe thead th {\n",
       "        text-align: right;\n",
       "    }\n",
       "</style>\n",
       "<table border=\"1\" class=\"dataframe\">\n",
       "  <thead>\n",
       "    <tr style=\"text-align: right;\">\n",
       "      <th></th>\n",
       "      <th>Число абортов на 100 000 населения</th>\n",
       "      <th>Распространенность алкоголизма на 100 000 населения</th>\n",
       "      <th>Онкологические заболевания, установленные впервые в жизни на 100 000 населения</th>\n",
       "    </tr>\n",
       "  </thead>\n",
       "  <tbody>\n",
       "    <tr>\n",
       "      <th>0</th>\n",
       "      <td>1.871763</td>\n",
       "      <td>61</td>\n",
       "      <td>279.1</td>\n",
       "    </tr>\n",
       "    <tr>\n",
       "      <th>1</th>\n",
       "      <td>1.810095</td>\n",
       "      <td>67</td>\n",
       "      <td>288.1</td>\n",
       "    </tr>\n",
       "    <tr>\n",
       "      <th>2</th>\n",
       "      <td>1.710095</td>\n",
       "      <td>72</td>\n",
       "      <td>294.7</td>\n",
       "    </tr>\n",
       "    <tr>\n",
       "      <th>3</th>\n",
       "      <td>1.609849</td>\n",
       "      <td>70</td>\n",
       "      <td>302.4</td>\n",
       "    </tr>\n",
       "    <tr>\n",
       "      <th>4</th>\n",
       "      <td>1.502725</td>\n",
       "      <td>71</td>\n",
       "      <td>304.1</td>\n",
       "    </tr>\n",
       "  </tbody>\n",
       "</table>\n",
       "</div>"
      ],
      "text/plain": [
       "   Число абортов на 100 000 населения  \\\n",
       "0                            1.871763   \n",
       "1                            1.810095   \n",
       "2                            1.710095   \n",
       "3                            1.609849   \n",
       "4                            1.502725   \n",
       "\n",
       "   Распространенность алкоголизма на 100 000 населения  \\\n",
       "0                                                 61     \n",
       "1                                                 67     \n",
       "2                                                 72     \n",
       "3                                                 70     \n",
       "4                                                 71     \n",
       "\n",
       "   Онкологические заболевания, установленные впервые в жизни на 100 000 населения  \n",
       "0                                              279.1                               \n",
       "1                                              288.1                               \n",
       "2                                              294.7                               \n",
       "3                                              302.4                               \n",
       "4                                              304.1                               "
      ]
     },
     "execution_count": 23,
     "metadata": {},
     "output_type": "execute_result"
    }
   ],
   "source": [
    "data = pd.read_excel('Статистика.xls', 'Лист2')[['Число абортов на 100 000 населения','Распространенность алкоголизма на 100 000 населения', 'Онкологические заболевания, установленные впервые в жизни на 100 000 населения']]\n",
    "# x - психические заболевания\n",
    "x = data.iloc[:,:-1]\n",
    "# y - онкозаболевания\n",
    "y = data.iloc[:,-1]\n",
    "data.head()"
   ]
  },
  {
   "cell_type": "markdown",
   "metadata": {},
   "source": [
    "Построение регрессии"
   ]
  },
  {
   "cell_type": "code",
   "execution_count": 24,
   "metadata": {
    "scrolled": true
   },
   "outputs": [
    {
     "data": {
      "text/plain": [
       "(243.7996195850099, array([-33.31644229,   1.50417278]))"
      ]
     },
     "execution_count": 24,
     "metadata": {},
     "output_type": "execute_result"
    }
   ],
   "source": [
    "# Создаём пустую форму регрессии\n",
    "skm = lm.LinearRegression()\n",
    "# Вычисляем параметры\n",
    "skm.fit(x, y)\n",
    "# Отображение коэфициентов\n",
    "skm.intercept_, skm.coef_"
   ]
  },
  {
   "cell_type": "markdown",
   "metadata": {},
   "source": [
    "Получаем уравнение"
   ]
  },
  {
   "cell_type": "code",
   "execution_count": 25,
   "metadata": {},
   "outputs": [
    {
     "data": {
      "text/plain": [
       "'y = -33.31644229495249*x1 + 1.504172778922948*x2 + 243.7996195850099'"
      ]
     },
     "execution_count": 25,
     "metadata": {},
     "output_type": "execute_result"
    }
   ],
   "source": [
    "f'y = {skm.coef_[0]}*x1 + {skm.coef_[1]}*x2 + {skm.intercept_}'"
   ]
  },
  {
   "cell_type": "markdown",
   "metadata": {},
   "source": [
    "#### 1.2.2.3. Зависимость онкозаболеваний от психических заболеваний и алкоголезависимости"
   ]
  },
  {
   "cell_type": "markdown",
   "metadata": {},
   "source": [
    "Загрузка данных"
   ]
  },
  {
   "cell_type": "code",
   "execution_count": 26,
   "metadata": {
    "scrolled": true
   },
   "outputs": [
    {
     "data": {
      "text/html": [
       "<div>\n",
       "<style scoped>\n",
       "    .dataframe tbody tr th:only-of-type {\n",
       "        vertical-align: middle;\n",
       "    }\n",
       "\n",
       "    .dataframe tbody tr th {\n",
       "        vertical-align: top;\n",
       "    }\n",
       "\n",
       "    .dataframe thead th {\n",
       "        text-align: right;\n",
       "    }\n",
       "</style>\n",
       "<table border=\"1\" class=\"dataframe\">\n",
       "  <thead>\n",
       "    <tr style=\"text-align: right;\">\n",
       "      <th></th>\n",
       "      <th>Психические заболевания (корректированные), установленные впервые в жизни на 100 000 населения</th>\n",
       "      <th>Распространенность алкоголизма на 100 000 населения</th>\n",
       "      <th>Онкологические заболевания, установленные впервые в жизни на 100 000 населения</th>\n",
       "    </tr>\n",
       "  </thead>\n",
       "  <tbody>\n",
       "    <tr>\n",
       "      <th>0</th>\n",
       "      <td>93.1</td>\n",
       "      <td>61</td>\n",
       "      <td>279.1</td>\n",
       "    </tr>\n",
       "    <tr>\n",
       "      <th>1</th>\n",
       "      <td>93.2</td>\n",
       "      <td>67</td>\n",
       "      <td>288.1</td>\n",
       "    </tr>\n",
       "    <tr>\n",
       "      <th>2</th>\n",
       "      <td>90.5</td>\n",
       "      <td>72</td>\n",
       "      <td>294.7</td>\n",
       "    </tr>\n",
       "    <tr>\n",
       "      <th>3</th>\n",
       "      <td>89.3</td>\n",
       "      <td>70</td>\n",
       "      <td>302.4</td>\n",
       "    </tr>\n",
       "    <tr>\n",
       "      <th>4</th>\n",
       "      <td>83.8</td>\n",
       "      <td>71</td>\n",
       "      <td>304.1</td>\n",
       "    </tr>\n",
       "  </tbody>\n",
       "</table>\n",
       "</div>"
      ],
      "text/plain": [
       "   Психические заболевания (корректированные), установленные впервые в жизни на 100 000 населения  \\\n",
       "0                                               93.1                                                \n",
       "1                                               93.2                                                \n",
       "2                                               90.5                                                \n",
       "3                                               89.3                                                \n",
       "4                                               83.8                                                \n",
       "\n",
       "   Распространенность алкоголизма на 100 000 населения  \\\n",
       "0                                                 61     \n",
       "1                                                 67     \n",
       "2                                                 72     \n",
       "3                                                 70     \n",
       "4                                                 71     \n",
       "\n",
       "   Онкологические заболевания, установленные впервые в жизни на 100 000 населения  \n",
       "0                                              279.1                               \n",
       "1                                              288.1                               \n",
       "2                                              294.7                               \n",
       "3                                              302.4                               \n",
       "4                                              304.1                               "
      ]
     },
     "execution_count": 26,
     "metadata": {},
     "output_type": "execute_result"
    }
   ],
   "source": [
    "data = pd.read_excel('Статистика.xls', 'Лист2')[['Психические заболевания (корректированные), установленные впервые в жизни на 100 000 населения', 'Распространенность алкоголизма на 100 000 населения', 'Онкологические заболевания, установленные впервые в жизни на 100 000 населения']]\n",
    "# x - употребление алкоголя\n",
    "x = data.iloc[:,:-1]\n",
    "# y - онкозаболевания\n",
    "y = data.iloc[:,-1]\n",
    "data.head()"
   ]
  },
  {
   "cell_type": "markdown",
   "metadata": {},
   "source": [
    "Построение регрессии"
   ]
  },
  {
   "cell_type": "code",
   "execution_count": 27,
   "metadata": {
    "scrolled": true
   },
   "outputs": [
    {
     "data": {
      "text/plain": [
       "(280.4729934764775, array([-0.93919624,  1.38066153]))"
      ]
     },
     "execution_count": 27,
     "metadata": {},
     "output_type": "execute_result"
    }
   ],
   "source": [
    "# Создаём пустую форму регрессии\n",
    "skm = lm.LinearRegression()\n",
    "# Вычисляем параметры\n",
    "skm.fit(x, y)\n",
    "# Отображение коэфициентов\n",
    "skm.intercept_, skm.coef_"
   ]
  },
  {
   "cell_type": "markdown",
   "metadata": {},
   "source": [
    "Получаем уравнение"
   ]
  },
  {
   "cell_type": "code",
   "execution_count": 28,
   "metadata": {},
   "outputs": [
    {
     "data": {
      "text/plain": [
       "'y = -0.9391962353821005*x1 + 1.380661527401475*x2 + 280.4729934764775'"
      ]
     },
     "execution_count": 28,
     "metadata": {},
     "output_type": "execute_result"
    }
   ],
   "source": [
    "f'y = {skm.coef_[0]}*x1 + {skm.coef_[1]}*x2 + {skm.intercept_}'"
   ]
  },
  {
   "cell_type": "markdown",
   "metadata": {},
   "source": [
    "### 1.2.3 Зависимость полная"
   ]
  },
  {
   "cell_type": "markdown",
   "metadata": {},
   "source": [
    "Были рассмотрены различные зависимости: по парам, по тройкам; теперь предлагается рассмотреть зависимость онкологических заболеваний от всех факторов в совокупности и построить общее уравнение"
   ]
  },
  {
   "cell_type": "markdown",
   "metadata": {},
   "source": [
    "Загрузка данных"
   ]
  },
  {
   "cell_type": "code",
   "execution_count": 29,
   "metadata": {
    "scrolled": false
   },
   "outputs": [
    {
     "data": {
      "text/html": [
       "<div>\n",
       "<style scoped>\n",
       "    .dataframe tbody tr th:only-of-type {\n",
       "        vertical-align: middle;\n",
       "    }\n",
       "\n",
       "    .dataframe tbody tr th {\n",
       "        vertical-align: top;\n",
       "    }\n",
       "\n",
       "    .dataframe thead th {\n",
       "        text-align: right;\n",
       "    }\n",
       "</style>\n",
       "<table border=\"1\" class=\"dataframe\">\n",
       "  <thead>\n",
       "    <tr style=\"text-align: right;\">\n",
       "      <th></th>\n",
       "      <th>Число абортов на 100 000 населения</th>\n",
       "      <th>Психические заболевания (корректированные), установленные впервые в жизни на 100 000 населения</th>\n",
       "      <th>Распространенность алкоголизма на 100 000 населения</th>\n",
       "      <th>Онкологические заболевания, установленные впервые в жизни на 100 000 населения</th>\n",
       "    </tr>\n",
       "  </thead>\n",
       "  <tbody>\n",
       "    <tr>\n",
       "      <th>0</th>\n",
       "      <td>1.871763</td>\n",
       "      <td>93.1</td>\n",
       "      <td>61</td>\n",
       "      <td>279.1</td>\n",
       "    </tr>\n",
       "    <tr>\n",
       "      <th>1</th>\n",
       "      <td>1.810095</td>\n",
       "      <td>93.2</td>\n",
       "      <td>67</td>\n",
       "      <td>288.1</td>\n",
       "    </tr>\n",
       "    <tr>\n",
       "      <th>2</th>\n",
       "      <td>1.710095</td>\n",
       "      <td>90.5</td>\n",
       "      <td>72</td>\n",
       "      <td>294.7</td>\n",
       "    </tr>\n",
       "    <tr>\n",
       "      <th>3</th>\n",
       "      <td>1.609849</td>\n",
       "      <td>89.3</td>\n",
       "      <td>70</td>\n",
       "      <td>302.4</td>\n",
       "    </tr>\n",
       "    <tr>\n",
       "      <th>4</th>\n",
       "      <td>1.502725</td>\n",
       "      <td>83.8</td>\n",
       "      <td>71</td>\n",
       "      <td>304.1</td>\n",
       "    </tr>\n",
       "  </tbody>\n",
       "</table>\n",
       "</div>"
      ],
      "text/plain": [
       "   Число абортов на 100 000 населения  \\\n",
       "0                            1.871763   \n",
       "1                            1.810095   \n",
       "2                            1.710095   \n",
       "3                            1.609849   \n",
       "4                            1.502725   \n",
       "\n",
       "   Психические заболевания (корректированные), установленные впервые в жизни на 100 000 населения  \\\n",
       "0                                               93.1                                                \n",
       "1                                               93.2                                                \n",
       "2                                               90.5                                                \n",
       "3                                               89.3                                                \n",
       "4                                               83.8                                                \n",
       "\n",
       "   Распространенность алкоголизма на 100 000 населения  \\\n",
       "0                                                 61     \n",
       "1                                                 67     \n",
       "2                                                 72     \n",
       "3                                                 70     \n",
       "4                                                 71     \n",
       "\n",
       "   Онкологические заболевания, установленные впервые в жизни на 100 000 населения  \n",
       "0                                              279.1                               \n",
       "1                                              288.1                               \n",
       "2                                              294.7                               \n",
       "3                                              302.4                               \n",
       "4                                              304.1                               "
      ]
     },
     "execution_count": 29,
     "metadata": {},
     "output_type": "execute_result"
    }
   ],
   "source": [
    "data = pd.read_excel('Статистика.xls', 'Лист2')[['Число абортов на 100 000 населения', 'Психические заболевания (корректированные), установленные впервые в жизни на 100 000 населения', 'Распространенность алкоголизма на 100 000 населения', 'Онкологические заболевания, установленные впервые в жизни на 100 000 населения']]\n",
    "# x - год\n",
    "x = data.iloc[:,:-1]\n",
    "# y - онкозаболевания\n",
    "y = data.iloc[:,-1]\n",
    "data.head()"
   ]
  },
  {
   "cell_type": "markdown",
   "metadata": {},
   "source": [
    "Построение регрессии"
   ]
  },
  {
   "cell_type": "code",
   "execution_count": 30,
   "metadata": {
    "scrolled": true
   },
   "outputs": [
    {
     "data": {
      "text/plain": [
       "(285.3098596644084, array([-5.1376219 , -0.85282811,  1.32296485]))"
      ]
     },
     "execution_count": 30,
     "metadata": {},
     "output_type": "execute_result"
    }
   ],
   "source": [
    "# Создаём пустую форму регрессии\n",
    "skm = lm.LinearRegression()\n",
    "# Вычисляем параметры\n",
    "skm.fit(x, y)\n",
    "# Отображение коэфициентов\n",
    "skm.intercept_, skm.coef_"
   ]
  },
  {
   "cell_type": "markdown",
   "metadata": {},
   "source": [
    "Получаем уравнение"
   ]
  },
  {
   "cell_type": "code",
   "execution_count": 31,
   "metadata": {
    "scrolled": false
   },
   "outputs": [
    {
     "data": {
      "text/plain": [
       "'y = -5.137621900447334*x1 + -0.8528281083951067*x2 + 1.322964854825357*x3 + 285.3098596644084'"
      ]
     },
     "execution_count": 31,
     "metadata": {},
     "output_type": "execute_result"
    }
   ],
   "source": [
    "f'y = {skm.coef_[0]}*x1 + {skm.coef_[1]}*x2 + {skm.coef_[2]}*x3 + {skm.intercept_}'"
   ]
  },
  {
   "cell_type": "markdown",
   "metadata": {},
   "source": [
    "Далее автор работы предлагает посмотреть на корреляцию переменных по тепловой карте. Этот анализ является одним из методов, используемых для определения того, какие функции больше всего влияют на целевую переменную, и, в свою очередь, используются при прогнозировании этой целевой переменной. "
   ]
  },
  {
   "cell_type": "code",
   "execution_count": 32,
   "metadata": {
    "scrolled": false
   },
   "outputs": [
    {
     "data": {
      "image/png": "[encoded data removed]",
      "text/plain": [
       "<Figure size 432x288 with 2 Axes>"
      ]
     },
     "metadata": {
      "needs_background": "light"
     },
     "output_type": "display_data"
    }
   ],
   "source": [
    "corr_matrix =data.corr()\n",
    "sns.heatmap(corr_matrix, linewidths=.5, annot = True);"
   ]
  },
  {
   "cell_type": "markdown",
   "metadata": {},
   "source": [
    "Интерпретировать такую диаграмму очень легко: считается, что между переменными есть связь, если коэффициент корреляции больше 0,7 (по модулю)\n",
    "    \n",
    "Как можно заметить, все оставшиеся переменные хорошо коррелируют с нашей целевой: онкологические заболевания"
   ]
  },
  {
   "cell_type": "markdown",
   "metadata": {},
   "source": [
    "# 2. Выполнение задания 2"
   ]
  },
  {
   "cell_type": "markdown",
   "metadata": {},
   "source": [
    "Загрузка данных"
   ]
  },
  {
   "cell_type": "code",
   "execution_count": 33,
   "metadata": {
    "scrolled": true
   },
   "outputs": [
    {
     "data": {
      "text/html": [
       "<div>\n",
       "<style scoped>\n",
       "    .dataframe tbody tr th:only-of-type {\n",
       "        vertical-align: middle;\n",
       "    }\n",
       "\n",
       "    .dataframe tbody tr th {\n",
       "        vertical-align: top;\n",
       "    }\n",
       "\n",
       "    .dataframe thead th {\n",
       "        text-align: right;\n",
       "    }\n",
       "</style>\n",
       "<table border=\"1\" class=\"dataframe\">\n",
       "  <thead>\n",
       "    <tr style=\"text-align: right;\">\n",
       "      <th></th>\n",
       "      <th>Число абортов на 100 000 населения</th>\n",
       "      <th>Психические заболевания (корректированные), установленные впервые в жизни на 100 000 населения</th>\n",
       "      <th>Распространенность алкоголизма на 100 000 населения</th>\n",
       "      <th>Онкологические заболевания, установленные впервые в жизни на 100 000 населения</th>\n",
       "    </tr>\n",
       "  </thead>\n",
       "  <tbody>\n",
       "    <tr>\n",
       "      <th>0</th>\n",
       "      <td>1.871763</td>\n",
       "      <td>93.1</td>\n",
       "      <td>61</td>\n",
       "      <td>279.1</td>\n",
       "    </tr>\n",
       "    <tr>\n",
       "      <th>1</th>\n",
       "      <td>1.810095</td>\n",
       "      <td>93.2</td>\n",
       "      <td>67</td>\n",
       "      <td>288.1</td>\n",
       "    </tr>\n",
       "    <tr>\n",
       "      <th>2</th>\n",
       "      <td>1.710095</td>\n",
       "      <td>90.5</td>\n",
       "      <td>72</td>\n",
       "      <td>294.7</td>\n",
       "    </tr>\n",
       "    <tr>\n",
       "      <th>3</th>\n",
       "      <td>1.609849</td>\n",
       "      <td>89.3</td>\n",
       "      <td>70</td>\n",
       "      <td>302.4</td>\n",
       "    </tr>\n",
       "    <tr>\n",
       "      <th>4</th>\n",
       "      <td>1.502725</td>\n",
       "      <td>83.8</td>\n",
       "      <td>71</td>\n",
       "      <td>304.1</td>\n",
       "    </tr>\n",
       "  </tbody>\n",
       "</table>\n",
       "</div>"
      ],
      "text/plain": [
       "   Число абортов на 100 000 населения  \\\n",
       "0                            1.871763   \n",
       "1                            1.810095   \n",
       "2                            1.710095   \n",
       "3                            1.609849   \n",
       "4                            1.502725   \n",
       "\n",
       "   Психические заболевания (корректированные), установленные впервые в жизни на 100 000 населения  \\\n",
       "0                                               93.1                                                \n",
       "1                                               93.2                                                \n",
       "2                                               90.5                                                \n",
       "3                                               89.3                                                \n",
       "4                                               83.8                                                \n",
       "\n",
       "   Распространенность алкоголизма на 100 000 населения  \\\n",
       "0                                                 61     \n",
       "1                                                 67     \n",
       "2                                                 72     \n",
       "3                                                 70     \n",
       "4                                                 71     \n",
       "\n",
       "   Онкологические заболевания, установленные впервые в жизни на 100 000 населения  \n",
       "0                                              279.1                               \n",
       "1                                              288.1                               \n",
       "2                                              294.7                               \n",
       "3                                              302.4                               \n",
       "4                                              304.1                               "
      ]
     },
     "execution_count": 33,
     "metadata": {},
     "output_type": "execute_result"
    }
   ],
   "source": [
    "data = pd.read_excel('Статистика.xls', 'Лист2')[['Число абортов на 100 000 населения', 'Психические заболевания (корректированные), установленные впервые в жизни на 100 000 населения', 'Распространенность алкоголизма на 100 000 населения', 'Онкологические заболевания, установленные впервые в жизни на 100 000 населения']]\n",
    "# x - год\n",
    "x = data.iloc[:,:-1]\n",
    "# y - онкозаболевания\n",
    "y = data.iloc[:,-1]\n",
    "data.head()"
   ]
  },
  {
   "cell_type": "markdown",
   "metadata": {},
   "source": [
    "Охарактеризуем нашу регрессию:\n",
    "\n",
    "1) Количество строчек данных: n=21\n",
    "\n",
    "2) Количество параметров: k=4\n",
    "\n",
    "3) n-k=17"
   ]
  },
  {
   "cell_type": "code",
   "execution_count": 34,
   "metadata": {},
   "outputs": [
    {
     "data": {
      "text/plain": [
       "(285.3098596644084, array([-5.1376219 , -0.85282811,  1.32296485]))"
      ]
     },
     "execution_count": 34,
     "metadata": {},
     "output_type": "execute_result"
    }
   ],
   "source": [
    "# Создаём пустую форму регрессии\n",
    "skm = lm.LinearRegression()\n",
    "# Вычисляем параметры\n",
    "skm.fit(x, y)\n",
    "# Отображение коэфициентов\n",
    "skm.intercept_, skm.coef_"
   ]
  },
  {
   "cell_type": "markdown",
   "metadata": {},
   "source": [
    "## 2.1. Построим доверительный интервал для второй оценки по формуле: $[\\hat{\\beta}_{OLC,2} - t_{c}s_{\\hat{\\beta_2}}, \\hat{\\beta}_{OLC,2} + t_{c}s_{\\hat{\\beta_2}}]$"
   ]
  },
  {
   "cell_type": "code",
   "execution_count": 35,
   "metadata": {},
   "outputs": [
    {
     "name": "stdout",
     "output_type": "stream",
     "text": [
      "1.2779834413687856 1.3679462682819283\n"
     ]
    },
    {
     "data": {
      "text/plain": [
       "'Доверительный интервал получается такой: [1.28;1.37]'"
      ]
     },
     "execution_count": 35,
     "metadata": {},
     "output_type": "execute_result"
    }
   ],
   "source": [
    "t_c = stats.t.ppf(1-0.05/2, 17)\n",
    "e = y - skm.predict(x)\n",
    "s_b2 = sqrt(np.transpose(e).dot(e)*(np.linalg.inv((np.transpose(x).dot(x)))[2,2])/410)\n",
    "t_lower = skm.coef_[2] - t_c*s_b2\n",
    "t_upper = skm.coef_[2] + t_c*s_b2\n",
    "/print(t_lower, t_upper)\n",
    "f'Доверительный интервал получается такой: [{round(t_lower,2)};{round(t_upper,2)}]'"
   ]
  },
  {
   "cell_type": "markdown",
   "metadata": {},
   "source": [
    "## 2.2 Проверим гипотезу, что $\\beta_2 = 0$: $|t| = \\frac{\\hat{\\beta}_{OLC,2}}{s_{\\hat{\\beta_2}}} > t_c$ "
   ]
  },
  {
   "cell_type": "code",
   "execution_count": 36,
   "metadata": {},
   "outputs": [
    {
     "name": "stdout",
     "output_type": "stream",
     "text": [
      "59.942744471912896\n"
     ]
    }
   ],
   "source": [
    "print(skm.coef_[2]/s_b2 - t_c)"
   ]
  },
  {
   "cell_type": "markdown",
   "metadata": {},
   "source": [
    "На уровне значимости $\\alpha = 0.05$ гипотеза отвергается."
   ]
  },
  {
   "cell_type": "markdown",
   "metadata": {},
   "source": [
    "## 2.3 Построим доверительный интервал для $\\sigma^2$: $(n-k)\\frac{s^2}{\\sigma^2}$ распределено как $\\chi^2(n-k)$"
   ]
  },
  {
   "cell_type": "code",
   "execution_count": 37,
   "metadata": {
    "scrolled": true
   },
   "outputs": [
    {
     "name": "stdout",
     "output_type": "stream",
     "text": [
      "38.11103065962032 84.13049997089307\n"
     ]
    },
    {
     "data": {
      "text/plain": [
       "'Доверительный интервал получается такой: [38.11;84.13]'"
      ]
     },
     "execution_count": 37,
     "metadata": {},
     "output_type": "execute_result"
    }
   ],
   "source": [
    "s2 = np.transpose(e).dot(e)/17\n",
    "t_upper = 17*s2/stats.chi2.ppf(0.05/2, 17)\n",
    "t_lower = 17*s2/stats.chi2.ppf(1-0.95/2, 17)\n",
    "/print(t_lower, t_upper)\n",
    "f'Доверительный интервал получается такой: [{round(t_lower,2)};{round(t_upper,2)}]'"
   ]
  },
  {
   "cell_type": "markdown",
   "metadata": {},
   "source": [
    "## 2.4 Проверка гипотезы незначимости регрессии"
   ]
  },
  {
   "cell_type": "markdown",
   "metadata": {},
   "source": [
    "Статистика F имеет следующее распределение:\n",
    "\n",
    "$F = \\dfrac{ESS/(k-1)}{RSS/(n-k)} \\sim F(k-1, n-k)$\n",
    "\n",
    "При конкретных $k=4, n=21 и при уровне значимости $\\alpha=0.048$ рассмотрим гипотезу."
   ]
  },
  {
   "cell_type": "code",
   "execution_count": 38,
   "metadata": {},
   "outputs": [
    {
     "name": "stdout",
     "output_type": "stream",
     "text": [
      "Гипотеза незначимости регрессии отвергается\n"
     ]
    }
   ],
   "source": [
    "data = pd.read_excel('Статистика.xls', 'Лист2')[['Число абортов на 100 000 населения', 'Психические заболевания (корректированные), установленные впервые в жизни на 100 000 населения', 'Распространенность алкоголизма на 100 000 населения', 'Онкологические заболевания, установленные впервые в жизни на 100 000 населения']]\n",
    "# x - год\n",
    "x = data.iloc[:,:-1]\n",
    "# y - онкозаболевания\n",
    "y = data.iloc[:,-1]\n",
    "\n",
    "\n",
    "# Создаём пустую форму регрессии\n",
    "skm = lm.LinearRegression()\n",
    "# Вычисляем параметры\n",
    "skm.fit(x, y)\n",
    "# Сохранение коэфициентов\n",
    "b1 = skm.coef_[0]\n",
    "b2 = skm.coef_[1]\n",
    "b3 = skm.coef_[2]\n",
    "\n",
    "# Выводим параметры регрессии\n",
    "n=21\n",
    "k=4\n",
    "\n",
    "# Проверка гипотезы незначимости регрессии: b2 = b3 = b4 = 0 на уровне значимости 5%\n",
    "l = 0.048\n",
    "ESS = np.sum((skm.predict(x)-np.mean(y))**2)\n",
    "RSS = np.sum((skm.predict(x) - y) ** 2)\n",
    "F_test = ESS * (n-k)/ (RSS * (k-1))\n",
    "F = f.ppf (1-l, k-1, n-k)\n",
    "#print (F_test, F)\n",
    "if F_test <= F: print (\"Гипотеза незначимости регрессии не отвергается\")\n",
    "else: print (\"Гипотеза незначимости регрессии отвергается\")"
   ]
  },
  {
   "cell_type": "markdown",
   "metadata": {},
   "source": [
    "## 2.5 Тест Бокса-Кокса  и Тест Зарембки"
   ]
  },
  {
   "cell_type": "code",
   "execution_count": 39,
   "metadata": {},
   "outputs": [],
   "source": [
    "data = pd.read_excel('Статистика.xls', 'Лист2')[['Число абортов на 100 000 населения', 'Психические заболевания (корректированные), установленные впервые в жизни на 100 000 населения', 'Распространенность алкоголизма на 100 000 населения', 'Онкологические заболевания, установленные впервые в жизни на 100 000 населения']]\n",
    "# x - год\n",
    "x = data.iloc[:,:-1].values\n",
    "# y - онкозаболевания\n",
    "y = data.iloc[:,-1]\n",
    "\n",
    "\n",
    "#Линейная модель\n",
    "skm_lin = lm.LinearRegression()\n",
    "# calculate parameters\n",
    "skm_lin.fit(x, y)\n",
    "\n",
    "#Полулогарифмическая модель\n",
    "ln_y = np.log(y)\n",
    "skm_log = lm.LinearRegression()\n",
    "# calculate parameters\n",
    "skm_log.fit(x, ln_y)\n",
    "\n",
    "# Выводим параметры регрессии\n",
    "n=21\n",
    "k=4"
   ]
  },
  {
   "cell_type": "code",
   "execution_count": 40,
   "metadata": {},
   "outputs": [],
   "source": [
    "#Строим вспомогательный y' и вспомогательные регрессии\n",
    "y_meangeom = gmean(y)\n",
    "y_new = y/y_meangeom #это y'\n",
    "\n",
    "skm_lin_new = lm.LinearRegression()\n",
    "skm_lin_new.fit(x, y_new)\n",
    "\n",
    "y_log_new = np.log(y_new)\n",
    "skm_log_new = lm.LinearRegression()\n",
    "skm_log_new.fit(x, y_log_new)\n",
    "\n",
    "#Считаем значения RSS для новых регрессий\n",
    "RSS_lin = np.sum((skm_lin_new.predict(x) - y_new) ** 2)\n",
    "RSS_log = np.sum((skm_log_new.predict(x) - y_log_new) ** 2)"
   ]
  },
  {
   "cell_type": "markdown",
   "metadata": {},
   "source": [
    "### 2.5.1 Тест Бокса-Кокса"
   ]
  },
  {
   "cell_type": "code",
   "execution_count": 41,
   "metadata": {},
   "outputs": [
    {
     "name": "stdout",
     "output_type": "stream",
     "text": [
      "0.0021135843518850558\n",
      "0.0021352929793778085\n",
      "0.0021594177276745784\n",
      "0.0021860579127150415\n",
      "0.00221531176580737\n",
      "0.0022472755760364247\n",
      "0.002282042734923118\n",
      "0.002319702683119996\n",
      "0.002360339761081357\n",
      "0.0024040319681975213\n",
      "0.0024508496378298633\n",
      "0.002500854039003229\n",
      "0.002554095919162521\n",
      "0.0026106140063090802\n",
      "0.0026704334928974614\n",
      "0.0027335645279636034\n",
      "0.002800000747902379\n",
      "0.0028697178799251257\n",
      "0.0029426724552811725\n",
      "0.0030188006715910574\n",
      "0.0030980174448644033\n",
      "0.0031802156917380784\n",
      "0.003265265880958071\n",
      "0.0033530158899895387\n",
      "0.0034432911977749165\n",
      "0.0035358954380647106\n",
      "0.003630611329505198\n",
      "0.0037272019889775902\n",
      "0.0038254126238507326\n",
      "0.003924972587234241\n",
      "0.004025597768498593\n",
      "0.004126993279805615\n",
      "0.004228856388748804\n",
      "0.004330879637996077\n",
      "0.004432754085571078\n",
      "0.004534172594518578\n",
      "0.004634833098465123\n",
      "0.004734441770154493\n",
      "0.004832716023382668\n",
      "0.004929387284704188\n",
      "0.005024203479497546\n",
      "0.005116931187016917\n",
      "0.0052073574303819\n",
      "0.005295291079486534\n",
      "0.0053805638569521756\n",
      "0.005463030948958161\n",
      "0.005542571233567577\n",
      "0.005619087148632284\n",
      "0.005692504229226809\n",
      "0.0057627703506506235\n",
      "Значение лямбда, при котором RSS минимален, равно 0.0 , поэтому больше подходит логарифмическая модель.\n"
     ]
    }
   ],
   "source": [
    "#Задаем массив RSS и значений лямбда\n",
    "RSS = []\n",
    "LMBDA = []\n",
    "FINAL = []\n",
    "x_lmbda = []\n",
    "x_new = data.drop([str(list(data)[-1])], axis=1).values\n",
    "#Выполняем преобразование Бокса-Кокса для 50 значений лямбда от 0 до 1 \n",
    "for i in np.linspace(0, 1, 50):\n",
    "    y_lmbda = boxcox(y_new, i)\n",
    "    \n",
    "    for elem in x_new:\n",
    "        x_ = boxcox(elem, i)\n",
    "        x_lmbda.append(x_)\n",
    "    \n",
    "    #x_lmbda = boxcox(x_new, i)\n",
    "    lr_lmbda = lm.LinearRegression()\n",
    "    lr_lmbda.fit(x_lmbda, y_lmbda)\n",
    "    RSS_add = np.sum((lr_lmbda.predict(x_lmbda) - y_lmbda) ** 2)\n",
    "    RSS.append(RSS_add)\n",
    "    print(RSS_add)\n",
    "    LMBDA.append(i)\n",
    "    FINAL.append(RSS)\n",
    "    x_lmbda = []\n",
    "\n",
    "l = np.argmin(RSS)\n",
    "model = ''\n",
    "if round(LMBDA[l]) == 0:\n",
    "    model = 'логарифмическая модель.'\n",
    "if round(LMBDA[l]) == 1: \n",
    "    model = 'линейная модель.'\n",
    "print ('Значение лямбда, при котором RSS минимален, равно', LMBDA[l], ', поэтому больше подходит', model)"
   ]
  },
  {
   "cell_type": "code",
   "execution_count": 42,
   "metadata": {},
   "outputs": [
    {
     "data": {
      "text/plain": [
       "0.0057627703506506235"
      ]
     },
     "execution_count": 42,
     "metadata": {},
     "output_type": "execute_result"
    }
   ],
   "source": [
    "RSS_add"
   ]
  },
  {
   "cell_type": "markdown",
   "metadata": {},
   "source": [
    "### 2.5.2 Тест Зарембки"
   ]
  },
  {
   "cell_type": "code",
   "execution_count": 43,
   "metadata": {},
   "outputs": [
    {
     "name": "stdout",
     "output_type": "stream",
     "text": [
      "H0 отвергается, выбираем полулогарифмическукю модель\n"
     ]
    }
   ],
   "source": [
    "#Строим статистику и проверяем гипотезу H0 на уровне значимости 4,8%\n",
    "stat_hi2 = n/2*abs(math.log(RSS_lin/RSS_log))\n",
    "l = 0.048\n",
    "HI =  chi2.ppf (1-l, 1)\n",
    "if stat_hi2 > HI: \n",
    "    if RSS_lin < RSS_log: print (\"H0 отвергается, выбираем линейную модель\")\n",
    "    else: print (\"H0 отвергается, выбираем полулогарифмическукю модель\")\n",
    "else: print (\"H0 не отвергается, модели не имеют статистически значимых различий\")"
   ]
  },
  {
   "cell_type": "markdown",
   "metadata": {},
   "source": [
    "## 2.6 Проверка на мультиколлинеарность"
   ]
  },
  {
   "cell_type": "code",
   "execution_count": 44,
   "metadata": {},
   "outputs": [
    {
     "data": {
      "text/html": [
       "<div>\n",
       "<style scoped>\n",
       "    .dataframe tbody tr th:only-of-type {\n",
       "        vertical-align: middle;\n",
       "    }\n",
       "\n",
       "    .dataframe tbody tr th {\n",
       "        vertical-align: top;\n",
       "    }\n",
       "\n",
       "    .dataframe thead th {\n",
       "        text-align: right;\n",
       "    }\n",
       "</style>\n",
       "<table border=\"1\" class=\"dataframe\">\n",
       "  <thead>\n",
       "    <tr style=\"text-align: right;\">\n",
       "      <th></th>\n",
       "      <th>Число абортов на 100 000 населения</th>\n",
       "      <th>Психические заболевания (корректированные), установленные впервые в жизни на 100 000 населения</th>\n",
       "      <th>Распространенность алкоголизма на 100 000 населения</th>\n",
       "      <th>Онкологические заболевания, установленные впервые в жизни на 100 000 населения</th>\n",
       "    </tr>\n",
       "  </thead>\n",
       "  <tbody>\n",
       "    <tr>\n",
       "      <th>0</th>\n",
       "      <td>1.871763</td>\n",
       "      <td>93.1</td>\n",
       "      <td>61</td>\n",
       "      <td>279.1</td>\n",
       "    </tr>\n",
       "    <tr>\n",
       "      <th>1</th>\n",
       "      <td>1.810095</td>\n",
       "      <td>93.2</td>\n",
       "      <td>67</td>\n",
       "      <td>288.1</td>\n",
       "    </tr>\n",
       "    <tr>\n",
       "      <th>2</th>\n",
       "      <td>1.710095</td>\n",
       "      <td>90.5</td>\n",
       "      <td>72</td>\n",
       "      <td>294.7</td>\n",
       "    </tr>\n",
       "    <tr>\n",
       "      <th>3</th>\n",
       "      <td>1.609849</td>\n",
       "      <td>89.3</td>\n",
       "      <td>70</td>\n",
       "      <td>302.4</td>\n",
       "    </tr>\n",
       "    <tr>\n",
       "      <th>4</th>\n",
       "      <td>1.502725</td>\n",
       "      <td>83.8</td>\n",
       "      <td>71</td>\n",
       "      <td>304.1</td>\n",
       "    </tr>\n",
       "  </tbody>\n",
       "</table>\n",
       "</div>"
      ],
      "text/plain": [
       "   Число абортов на 100 000 населения  \\\n",
       "0                            1.871763   \n",
       "1                            1.810095   \n",
       "2                            1.710095   \n",
       "3                            1.609849   \n",
       "4                            1.502725   \n",
       "\n",
       "   Психические заболевания (корректированные), установленные впервые в жизни на 100 000 населения  \\\n",
       "0                                               93.1                                                \n",
       "1                                               93.2                                                \n",
       "2                                               90.5                                                \n",
       "3                                               89.3                                                \n",
       "4                                               83.8                                                \n",
       "\n",
       "   Распространенность алкоголизма на 100 000 населения  \\\n",
       "0                                                 61     \n",
       "1                                                 67     \n",
       "2                                                 72     \n",
       "3                                                 70     \n",
       "4                                                 71     \n",
       "\n",
       "   Онкологические заболевания, установленные впервые в жизни на 100 000 населения  \n",
       "0                                              279.1                               \n",
       "1                                              288.1                               \n",
       "2                                              294.7                               \n",
       "3                                              302.4                               \n",
       "4                                              304.1                               "
      ]
     },
     "execution_count": 44,
     "metadata": {},
     "output_type": "execute_result"
    }
   ],
   "source": [
    "data = pd.read_excel('Статистика.xls', 'Лист2')[['Число абортов на 100 000 населения', 'Психические заболевания (корректированные), установленные впервые в жизни на 100 000 населения', 'Распространенность алкоголизма на 100 000 населения', 'Онкологические заболевания, установленные впервые в жизни на 100 000 населения']]\n",
    "\n",
    "data.head()"
   ]
  },
  {
   "cell_type": "code",
   "execution_count": 45,
   "metadata": {},
   "outputs": [],
   "source": [
    "x = data[['Число абортов на 100 000 населения', 'Психические заболевания (корректированные), установленные впервые в жизни на 100 000 населения', 'Распространенность алкоголизма на 100 000 населения']].values"
   ]
  },
  {
   "cell_type": "markdown",
   "metadata": {},
   "source": [
    "Мультиколлинеарность возникает, когда две и более независимых переменных сильно связаны друг с другом (разумеется, имеется в виду линейная связь).\n",
    "\n",
    "**Последствия мультиколлинеарности:**\n",
    "\n",
    "1) Если мультиколлинеарность строгая (коэффициент корреляции переменных по модулю равен 1), то невозможно оценить коэффициенты и рассчитать ошибки.\n",
    "\n",
    "2) Если мультиколлинеарность нестрогая – неверные оценки коэффициентов и большие стандартные ошибки.\n",
    "\n",
    "3) Неустойчивость оценок: возможны неверные выводы из-за больших стандартных ошибок (получаем заниженные t–статистики). Из-за этого при удалении нескольких или даже одного наблюдения из выборки можно получить совсем другие оценки коэффициентов, даже с противоположными знаками.\n",
    "\n",
    "**Индикаторы мультиколлинеарности:**\n",
    "\n",
    "1) Высокий R2 и незначимые коэффициенты.\n",
    "\n",
    "2) Сильная парная корреляция предикторов.\n",
    "\n",
    "3) Сильные частные корреляции предикторов.\n",
    "\n",
    "4) Высокий VIF – variance inflation factor (показатель “вздутия” дисперсии)."
   ]
  },
  {
   "cell_type": "markdown",
   "metadata": {},
   "source": [
    "### 2.6.1 vif"
   ]
  },
  {
   "cell_type": "code",
   "execution_count": 46,
   "metadata": {},
   "outputs": [],
   "source": [
    "def vif(X):\n",
    "    exog = X - np.nanmean(X, 0); variables = np.arange(exog.shape[1])\n",
    "    vifs = np.r_[[OLS(exog[:, i], exog[:, variables != i]).fit().rsquared for i in variables]]\n",
    "    return 1/(1.-vifs)"
   ]
  },
  {
   "cell_type": "code",
   "execution_count": 47,
   "metadata": {
    "scrolled": true
   },
   "outputs": [
    {
     "data": {
      "text/plain": [
       "array([57.27146709, 45.75668306, 26.59936849])"
      ]
     },
     "execution_count": 47,
     "metadata": {},
     "output_type": "execute_result"
    }
   ],
   "source": [
    "vif(x)"
   ]
  },
  {
   "cell_type": "markdown",
   "metadata": {},
   "source": [
    "### 2.6.2 тепловая коррелиционная карта"
   ]
  },
  {
   "cell_type": "code",
   "execution_count": 48,
   "metadata": {
    "scrolled": false
   },
   "outputs": [
    {
     "data": {
      "image/png": "[encoded data removed]",
      "text/plain": [
       "<Figure size 432x288 with 2 Axes>"
      ]
     },
     "metadata": {
      "needs_background": "light"
     },
     "output_type": "display_data"
    }
   ],
   "source": [
    "corr_matrix =data.corr()\n",
    "sns.heatmap(corr_matrix, linewidths=.5, annot = True);"
   ]
  },
  {
   "cell_type": "markdown",
   "metadata": {},
   "source": [
    "По всей видимости, у меня есть мультиколлинеарность)))\n",
    "\n",
    "Тогда решим эту проблему следующим методом:"
   ]
  },
  {
   "cell_type": "markdown",
   "metadata": {},
   "source": [
    "**Ридж регрессия**\n",
    "\n",
    "Ридж-регрессия или гребневая регрессия (ridge regression) - это один из методов понижения размерности. Часто его применяют для борьбы с переизбыточностью данных, когда независимые переменные коррелируют друг с другом (т.е. имеет место мультиколлинеарность)."
   ]
  },
  {
   "cell_type": "code",
   "execution_count": 49,
   "metadata": {},
   "outputs": [
    {
     "data": {
      "text/plain": [
       "(281.3688065128573, array([-0.34619666, -0.93635264,  1.3724461 ]))"
      ]
     },
     "execution_count": 49,
     "metadata": {},
     "output_type": "execute_result"
    }
   ],
   "source": [
    "# Создаём пустую форму регрессии\n",
    "skm = lm.Ridge()\n",
    "# Вычисляем параметры\n",
    "skm.fit(x, y)\n",
    "# Отображение коэфициентов\n",
    "skm.intercept_, skm.coef_"
   ]
  }
 ],
 "metadata": {
  "kernelspec": {
   "display_name": "Python 3",
   "language": "python",
   "name": "python3"
  },
  "language_info": {
   "codemirror_mode": {
    "name": "ipython",
    "version": 3
   },
   "file_extension": ".py",
   "mimetype": "text/x-python",
   "name": "python",
   "nbconvert_exporter": "python",
   "pygments_lexer": "ipython3",
   "version": "3.8.3"
  }
 },
 "nbformat": 4,
 "nbformat_minor": 4
}
