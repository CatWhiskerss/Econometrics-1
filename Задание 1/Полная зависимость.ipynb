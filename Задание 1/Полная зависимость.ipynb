{
 "cells": [
  {
   "cell_type": "markdown",
   "metadata": {},
   "source": [
    "Подключение библиотек"
   ]
  },
  {
   "cell_type": "code",
   "execution_count": 1,
   "metadata": {},
   "outputs": [],
   "source": [
    "import numpy as np\n",
    "import pandas as pd\n",
    "import sklearn.linear_model as lm\n",
    "import statsmodels.api as sm\n",
    "import patsy as pt\n",
    "import matplotlib.pyplot as plt"
   ]
  },
  {
   "cell_type": "markdown",
   "metadata": {},
   "source": [
    "# Зависимость онкозаболеваний в зависимости от числа абортов, выбросов СО_2, показателя употребления алкоголя и психических заболеваний"
   ]
  },
  {
   "cell_type": "markdown",
   "metadata": {},
   "source": [
    "Загрузка данных"
   ]
  },
  {
   "cell_type": "code",
   "execution_count": 2,
   "metadata": {},
   "outputs": [
    {
     "data": {
      "text/html": [
       "<div>\n",
       "<style scoped>\n",
       "    .dataframe tbody tr th:only-of-type {\n",
       "        vertical-align: middle;\n",
       "    }\n",
       "\n",
       "    .dataframe tbody tr th {\n",
       "        vertical-align: top;\n",
       "    }\n",
       "\n",
       "    .dataframe thead th {\n",
       "        text-align: right;\n",
       "    }\n",
       "</style>\n",
       "<table border=\"1\" class=\"dataframe\">\n",
       "  <thead>\n",
       "    <tr style=\"text-align: right;\">\n",
       "      <th></th>\n",
       "      <th>x2</th>\n",
       "      <th>x3</th>\n",
       "      <th>x4</th>\n",
       "      <th>x5</th>\n",
       "      <th>y</th>\n",
       "    </tr>\n",
       "  </thead>\n",
       "  <tbody>\n",
       "    <tr>\n",
       "      <th>0</th>\n",
       "      <td>2652.0</td>\n",
       "      <td>136.5</td>\n",
       "      <td>1.704989e+06</td>\n",
       "      <td>9.21</td>\n",
       "      <td>422.1</td>\n",
       "    </tr>\n",
       "    <tr>\n",
       "      <th>1</th>\n",
       "      <td>2498.7</td>\n",
       "      <td>132.3</td>\n",
       "      <td>1.598095e+06</td>\n",
       "      <td>9.25</td>\n",
       "      <td>430.6</td>\n",
       "    </tr>\n",
       "    <tr>\n",
       "      <th>2</th>\n",
       "      <td>2346.1</td>\n",
       "      <td>130.1</td>\n",
       "      <td>1.602088e+06</td>\n",
       "      <td>9.87</td>\n",
       "      <td>440.7</td>\n",
       "    </tr>\n",
       "    <tr>\n",
       "      <th>3</th>\n",
       "      <td>2181.2</td>\n",
       "      <td>121.6</td>\n",
       "      <td>1.650281e+06</td>\n",
       "      <td>10.70</td>\n",
       "      <td>441.4</td>\n",
       "    </tr>\n",
       "    <tr>\n",
       "      <th>4</th>\n",
       "      <td>2138.8</td>\n",
       "      <td>121.0</td>\n",
       "      <td>1.678389e+06</td>\n",
       "      <td>10.18</td>\n",
       "      <td>447.8</td>\n",
       "    </tr>\n",
       "  </tbody>\n",
       "</table>\n",
       "</div>"
      ],
      "text/plain": [
       "       x2     x3            x4     x5      y\n",
       "0  2652.0  136.5  1.704989e+06   9.21  422.1\n",
       "1  2498.7  132.3  1.598095e+06   9.25  430.6\n",
       "2  2346.1  130.1  1.602088e+06   9.87  440.7\n",
       "3  2181.2  121.6  1.650281e+06  10.70  441.4\n",
       "4  2138.8  121.0  1.678389e+06  10.18  447.8"
      ]
     },
     "execution_count": 2,
     "metadata": {},
     "output_type": "execute_result"
    }
   ],
   "source": [
    "data = pd.read_excel('Статистика.xls', 'Лист2')[['x2', 'x3', 'x4', 'x5', 'y']]\n",
    "# x - год\n",
    "x = data.iloc[:,:-1]\n",
    "# y - онкозаболевания\n",
    "y = data.iloc[:,-1]\n",
    "data.head()"
   ]
  },
  {
   "cell_type": "markdown",
   "metadata": {},
   "source": [
    "Построение регрессии"
   ]
  },
  {
   "cell_type": "code",
   "execution_count": 3,
   "metadata": {
    "scrolled": true
   },
   "outputs": [
    {
     "data": {
      "text/plain": [
       "(766.7890024347898,\n",
       " array([-7.50656041e-02, -1.72559122e-02, -1.02480421e-05, -1.35412181e+01]))"
      ]
     },
     "execution_count": 3,
     "metadata": {},
     "output_type": "execute_result"
    }
   ],
   "source": [
    "# Создаём пустую форму регрессии\n",
    "skm = lm.LinearRegression()\n",
    "# Вычисляем параметры\n",
    "skm.fit(x, y)\n",
    "# Отображение коэфициентов\n",
    "skm.intercept_, skm.coef_"
   ]
  },
  {
   "cell_type": "markdown",
   "metadata": {},
   "source": [
    "Получаем уравнение"
   ]
  },
  {
   "cell_type": "code",
   "execution_count": 4,
   "metadata": {},
   "outputs": [
    {
     "data": {
      "text/plain": [
       "'y = -0.07506560407854952*x2 + -0.017255912155531444*x3 + -1.0248042144257066e-05*x4 + -13.541218078071672*x5 + 766.7890024347898'"
      ]
     },
     "execution_count": 4,
     "metadata": {},
     "output_type": "execute_result"
    }
   ],
   "source": [
    "f'y = {skm.coef_[0]}*x2 + {skm.coef_[1]}*x3 + {skm.coef_[2]}*x4 + {skm.coef_[3]}*x5 + {skm.intercept_}'"
   ]
  }
 ],
 "metadata": {
  "kernelspec": {
   "display_name": "Python 3",
   "language": "python",
   "name": "python3"
  },
  "language_info": {
   "codemirror_mode": {
    "name": "ipython",
    "version": 3
   },
   "file_extension": ".py",
   "mimetype": "text/x-python",
   "name": "python",
   "nbconvert_exporter": "python",
   "pygments_lexer": "ipython3",
   "version": "3.8.3"
  }
 },
 "nbformat": 4,
 "nbformat_minor": 4
}
